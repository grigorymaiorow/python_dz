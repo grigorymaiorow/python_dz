{
 "cells": [
  {
   "cell_type": "code",
   "execution_count": null,
   "metadata": {},
   "outputs": [],
   "source": [
    "import pandas as pd\n",
    "import matplotlib.pyplot as plt"
   ]
  },
  {
   "cell_type": "code",
   "execution_count": null,
   "metadata": {},
   "outputs": [],
   "source": [
    "df = pd.read_csv('Lottery_Mega_Millions_Winning_Numbers__Beginning_2002.csv', delimiter=',')\n"
   ]
  },
  {
   "cell_type": "code",
   "execution_count": null,
   "metadata": {},
   "outputs": [],
   "source": [
    "\n",
    "df_2 = df[df['Multiplier'] == 2.0]\n",
    "df_3 = df[df['Multiplier'] == 3.0]\n",
    "df_5 = df[df['Multiplier'] == 5.0]"
   ]
  },
  {
   "cell_type": "code",
   "execution_count": null,
   "metadata": {},
   "outputs": [],
   "source": [
    "fig, ax = plt.subplots()\n",
    "plt.plot(pd.to_datetime(df_2['Draw Date']), df_2['Multiplier'], ':')\n",
    "plt.plot(pd.to_datetime(df_3['Draw Date']), df_3['Multiplier'], '--')\n",
    "plt.plot(pd.to_datetime(df_5['Draw Date']), df_5['Multiplier'], '-.')\n",
    "plt.grid() # включить сетку\n",
    "plt.show() # отобразить график"
   ]
  }
 ],
 "metadata": {
  "kernelspec": {
   "display_name": "Python 3",
   "language": "python",
   "name": "python3"
  },
  "language_info": {
   "codemirror_mode": {
    "name": "ipython",
    "version": 3
   },
   "file_extension": ".py",
   "mimetype": "text/x-python",
   "name": "python",
   "nbconvert_exporter": "python",
   "pygments_lexer": "ipython3",
   "version": "3.10.7"
  },
  "orig_nbformat": 4,
  "vscode": {
   "interpreter": {
    "hash": "aee8b7b246df8f9039afb4144a1f6fd8d2ca17a180786b69acc140d282b71a49"
   }
  }
 },
 "nbformat": 4,
 "nbformat_minor": 2
}
